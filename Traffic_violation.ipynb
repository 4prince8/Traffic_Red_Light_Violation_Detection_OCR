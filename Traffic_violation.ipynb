{
 "cells": [
  {
   "cell_type": "markdown",
   "metadata": {},
   "source": [
    "# Traffic Red-Light Running Violation Detection 🚦\n",
    "This notebook demonstrates a system for detecting red light violations using computer vision and OCR (Optical Character Recognition). The system captures video frames, detects license plates, and reads the license plate numbers when a vehicle crosses a red light.\n"
   ]
  },
  {
   "cell_type": "markdown",
   "metadata": {},
   "source": [
    "## Import Libraries\n",
    "We start by importing the necessary libraries for image processing, OCR, and data handling."
   ]
  },
  {
   "cell_type": "code",
   "execution_count": 1,
   "metadata": {},
   "outputs": [],
   "source": [
    "import cv2\n",
    "import numpy as np\n",
    "import pytesseract\n",
    "from datetime import datetime\n",
    "import matplotlib.pyplot as plt\n",
    "import re\n",
    "import os\n",
    "import pandas as pd"
   ]
  },
  {
   "cell_type": "code",
   "execution_count": 2,
   "metadata": {},
   "outputs": [
    {
     "name": "stdout",
     "output_type": "stream",
     "text": [
      "<module 'pytesseract' from 'd:\\\\Anaconda\\\\Lib\\\\site-packages\\\\pytesseract\\\\__init__.py'>\n"
     ]
    }
   ],
   "source": [
    "print(pytesseract)"
   ]
  },
  {
   "cell_type": "markdown",
   "metadata": {},
   "source": [
    "## Configure pytesseract\n",
    "Set up pytesseract to use the Persian language for OCR.\n"
   ]
  },
  {
   "cell_type": "code",
   "execution_count": 3,
   "metadata": {},
   "outputs": [],
   "source": [
    "# Configure pytesseract to use the Persian language\n",
    "pytesseract.pytesseract.tesseract_cmd = r'C:\\Program Files (x86)\\Tesseract-OCR\\tesseract.exe'\n",
    "tessdata_dir_config = r'--tessdata-dir \"C:\\Program Files (x86)\\Tesseract-OCR\\tessdata\" --psm 6 -l fas'"
   ]
  },
  {
   "cell_type": "markdown",
   "metadata": {},
   "source": [
    "## Define Traffic Light Color Codes\n",
    "Define constants for the traffic light colors.\n"
   ]
  },
  {
   "cell_type": "code",
   "execution_count": 4,
   "metadata": {},
   "outputs": [],
   "source": [
    "# Define traffic light color codes\n",
    "RED_LIGHT = 0\n",
    "YELLOW_LIGHT = 1\n",
    "GREEN_LIGHT = 2"
   ]
  },
  {
   "cell_type": "markdown",
   "metadata": {},
   "source": [
    "## Set Traffic Light Timing\n",
    "Define the duration for each traffic light color.\n"
   ]
  },
  {
   "cell_type": "code",
   "execution_count": 5,
   "metadata": {},
   "outputs": [],
   "source": [
    "# Set traffic light timing\n",
    "light_timing = {\n",
    "    RED_LIGHT: 20,     # 20 seconds for red light\n",
    "    YELLOW_LIGHT: 1,   # 1 second for yellow light\n",
    "    GREEN_LIGHT: 3     # 3 seconds for green light\n",
    "}"
   ]
  },
  {
   "cell_type": "markdown",
   "metadata": {},
   "source": [
    "## Find License Plate Regions\n",
    "Define a function to detect potential license plate regions in a video frame.\n"
   ]
  },
  {
   "cell_type": "code",
   "execution_count": 6,
   "metadata": {},
   "outputs": [],
   "source": [
    "# Function to find rectangles that might be license plates\n",
    "def find_license_plate_regions(frame):\n",
    "    gray = cv2.cvtColor(frame, cv2.COLOR_BGR2GRAY)\n",
    "    sobel_x = cv2.Sobel(gray, cv2.CV_16S, 1, 0)\n",
    "    abs_sobel_x = cv2.convertScaleAbs(sobel_x)\n",
    "    _, threshold_img = cv2.threshold(abs_sobel_x, 0, 255, cv2.THRESH_BINARY + cv2.THRESH_OTSU)\n",
    "    kernel = np.ones((3, 3), np.uint8)\n",
    "    closed_img = cv2.morphologyEx(threshold_img, cv2.MORPH_CLOSE, kernel)\n",
    "    contours, _ = cv2.findContours(closed_img, cv2.RETR_EXTERNAL, cv2.CHAIN_APPROX_SIMPLE)\n",
    "\n",
    "    search_region_y_start = int(frame.shape[0] * 0.6)\n",
    "    possible_plates = []\n",
    "\n",
    "    for cnt in contours:\n",
    "        rect = cv2.boundingRect(cnt)\n",
    "        aspect_ratio = rect[2] / rect[3]\n",
    "        area = cv2.contourArea(cnt)\n",
    "        \n",
    "        if 3.5 < aspect_ratio < 4.5 and 500 < area < 3000:\n",
    "            if rect[1] + rect[3] > search_region_y_start:\n",
    "                possible_plates.append(rect)\n",
    "                cv2.rectangle(frame, (rect[0], rect[1]), (rect[0]+rect[2], rect[1]+rect[3]), (0, 255, 0), 2)\n",
    "    return possible_plates"
   ]
  },
  {
   "cell_type": "markdown",
   "metadata": {},
   "source": [
    "## Check License Plate Conditions\n",
    "Define a function to validate the detected license plate text.\n"
   ]
  },
  {
   "cell_type": "code",
   "execution_count": 7,
   "metadata": {},
   "outputs": [],
   "source": [
    "# Function to check license plate conditions\n",
    "def is_valid_plate(text):\n",
    "    letters_count = len(re.findall(r'[آ-ی]', text))\n",
    "    numbers_count = len(re.findall(r'[۰-۹]', text))\n",
    "    return letters_count <= 1 and 4 <= numbers_count <= 7"
   ]
  },
  {
   "cell_type": "markdown",
   "metadata": {},
   "source": [
    "## Read License Plate\n",
    "Define a function to read the license plate text using pytesseract.\n"
   ]
  },
  {
   "cell_type": "code",
   "execution_count": 8,
   "metadata": {},
   "outputs": [],
   "source": [
    "# Function to read license plate using pytesseract\n",
    "def read_license_plate(frame, regions, save_path, index):\n",
    "    for region in regions:\n",
    "        x, y, w, h = region\n",
    "        plate_img = frame[y:y+h, x:x+w]\n",
    "        plate_img_path = os.path.join(save_path, f'plate_{index / 10.0}.png')\n",
    "        cv2.imwrite(plate_img_path, plate_img)\n",
    "\n",
    "        plate_gray = cv2.cvtColor(plate_img, cv2.COLOR_BGR2GRAY)\n",
    "        _, plate_binary = cv2.threshold(plate_gray, 0, 255, cv2.THRESH_BINARY + cv2.THRESH_OTSU)\n",
    "        text = pytesseract.image_to_string(plate_binary, config=tessdata_dir_config)\n",
    "        \n",
    "        if is_valid_plate(text):\n",
    "            return text.strip(), plate_img_path\n",
    "    return None, None"
   ]
  },
  {
   "cell_type": "markdown",
   "metadata": {},
   "source": [
    "## Save License Plate Data to CSV\n",
    "Define a function to save the detected license plate data to a CSV file.\n"
   ]
  },
  {
   "cell_type": "code",
   "execution_count": 9,
   "metadata": {},
   "outputs": [],
   "source": [
    "# Function to save license plate data to CSV\n",
    "def save_to_csv(index, time, license_plate):\n",
    "    df = pd.DataFrame([[index, time, license_plate]], columns=[\"Index\", \"Time\", \"License_plate\"])\n",
    "    df.to_csv('license_plates.csv', mode='a', header=False, index=False, encoding='utf-8')"
   ]
  },
  {
   "cell_type": "markdown",
   "metadata": {},
   "source": [
    "## Determine Traffic Light Status\n",
    "Define a function to determine the current traffic light status based on elapsed time.\n"
   ]
  },
  {
   "cell_type": "code",
   "execution_count": 10,
   "metadata": {},
   "outputs": [],
   "source": [
    "# Function to determine traffic light status based on time\n",
    "def get_traffic_light_status(elapsed_time):\n",
    "    total_cycle_time = sum(light_timing.values())\n",
    "    time_in_cycle = elapsed_time % total_cycle_time\n",
    "    \n",
    "    cumulative_time = 0\n",
    "    for light_code, duration in light_timing.items():\n",
    "        cumulative_time += duration\n",
    "        if time_in_cycle < cumulative_time:\n",
    "            return light_code\n",
    "    return GREEN_LIGHT"
   ]
  },
  {
   "cell_type": "markdown",
   "metadata": {},
   "source": [
    "## Detect Yellow Rectangle Crossing\n",
    "Define a function to detect if a vehicle crosses a yellow rectangle.\n"
   ]
  },
  {
   "cell_type": "code",
   "execution_count": 11,
   "metadata": {},
   "outputs": [],
   "source": [
    "# Function to detect crossing of yellow rectangle\n",
    "def detect_yellow_rectangle_crossing(frame):\n",
    "    hsv = cv2.cvtColor(frame, cv2.COLOR_BGR2HSV)\n",
    "    lower_yellow = np.array([20, 100, 100])\n",
    "    upper_yellow = np.array([30, 255, 255])\n",
    "    mask = cv2.inRange(hsv, lower_yellow, upper_yellow)\n",
    "    contours, _ = cv2.findContours(mask, cv2.RETR_EXTERNAL, cv2.CHAIN_APPROX_SIMPLE)\n",
    "    \n",
    "    for cnt in contours:\n",
    "        if cv2.contourArea(cnt) > 1000:\n",
    "            return True\n",
    "    return False"
   ]
  },
  {
   "cell_type": "markdown",
   "metadata": {},
   "source": [
    "## Display Traffic Light Status\n",
    "Define a function to display the current traffic light status on the video frame.\n"
   ]
  },
  {
   "cell_type": "code",
   "execution_count": 12,
   "metadata": {},
   "outputs": [],
   "source": [
    "# Function to display traffic light status\n",
    "def display_traffic_light_status(frame, light_status):\n",
    "    if light_status == RED_LIGHT:\n",
    "        text = 'RED'\n",
    "        color = (0, 0, 255)\n",
    "    elif light_status == YELLOW_LIGHT:\n",
    "        text = 'YELLOW'\n",
    "        color = (0, 255, 255)\n",
    "    else:\n",
    "        text = 'GREEN'\n",
    "        color = (0, 255, 0)\n",
    "    \n",
    "    font = cv2.FONT_HERSHEY_SIMPLEX\n",
    "    text_size = cv2.getTextSize(text, font, 4, 6)[0]\n",
    "    text_x = (frame.shape[1] - text_size[0]) // 2\n",
    "    text_y = text_size[1] + 20\n",
    "    cv2.putText(frame, text, (text_x, text_y), font, 4, color, 7)"
   ]
  },
  {
   "cell_type": "markdown",
   "metadata": {},
   "source": [
    "## Initialize Variables\n",
    "Initialize variables for timing and file paths.\n"
   ]
  },
  {
   "cell_type": "code",
   "execution_count": 13,
   "metadata": {},
   "outputs": [],
   "source": [
    "# Initialize variables\n",
    "start_time = datetime.now()\n",
    "last_save_time = start_time\n",
    "save_path = 'plates'\n",
    "os.makedirs(save_path, exist_ok=True)\n",
    "index = 1\n",
    "\n",
    "# Create CSV file with headers\n",
    "df = pd.DataFrame([[\"Index\", \"Time\", \"License_plate\"]], columns=[\"Index\", \"Time\", \"License_plate\"])\n",
    "df.to_csv('license_plates.csv', mode='a', header=False, index=False, encoding='utf-8')"
   ]
  },
  {
   "cell_type": "markdown",
   "metadata": {},
   "source": [
    "## Read Video from File\n",
    "Open the video file for processing.\n"
   ]
  },
  {
   "cell_type": "code",
   "execution_count": 14,
   "metadata": {},
   "outputs": [],
   "source": [
    "# Read video from file\n",
    "cap = cv2.VideoCapture('Test_DIP_Proj.mp4')"
   ]
  },
  {
   "cell_type": "markdown",
   "metadata": {},
   "source": [
    "## Process Video Frames\n",
    "Process each frame of the video to detect red light violations and read license plates.\n"
   ]
  },
  {
   "cell_type": "code",
   "execution_count": 15,
   "metadata": {},
   "outputs": [
    {
     "name": "stdout",
     "output_type": "stream",
     "text": [
      "Violation time: 2024-07-04 12:18:17.073170,\t License plate read: ۱۶۹۲۱۹۹\n",
      "Violation time: 2024-07-04 12:18:36.533838,\t License plate read: ۱۳۶ ۳۳\n",
      "Violation time: 2024-07-04 12:18:51.678924,\t License plate read: 2۳2 ۳۵۹\n",
      "Violation time: 2024-07-04 12:18:54.761435,\t License plate read: |۳۸۷۰ خء ۸\n",
      "Violation time: 2024-07-04 12:19:14.058203,\t License plate read: ۲۲۹ ۷۷۷۵\n",
      "Violation time: 2024-07-04 12:19:24.338417,\t License plate read: ۷۶۶ص ۶۵|\n",
      "Violation time: 2024-07-04 12:19:26.360980,\t License plate read: ۳۳ ۸۲\n",
      "Violation time: 2024-07-04 12:19:28.915972,\t License plate read: |۷۷۷۶ ن ۴۹\n",
      "Violation time: 2024-07-04 12:19:31.032520,\t License plate read: ۴۹ 0 ۷۷۷۶۰\n",
      "Violation time: 2024-07-04 12:19:42.740623,\t License plate read: 140 ۱۵۲۰\n",
      "Violation time: 2024-07-04 12:19:56.362032,\t License plate read: ۳۷۶۸\n"
     ]
    }
   ],
   "source": [
    "while cap.isOpened():\n",
    "    ret, frame = cap.read()\n",
    "    if not ret:\n",
    "        break\n",
    "    \n",
    "    elapsed_time = (datetime.now() - start_time).total_seconds()\n",
    "    light_status = get_traffic_light_status(elapsed_time)\n",
    "    display_traffic_light_status(frame, light_status)\n",
    "    \n",
    "    if light_status == RED_LIGHT:\n",
    "        current_time = datetime.now()\n",
    "        if (current_time - last_save_time).total_seconds() >= 2:\n",
    "            regions = find_license_plate_regions(frame)\n",
    "            license_plate, plate_img_path = read_license_plate(frame, regions, save_path, index)\n",
    "            if license_plate:\n",
    "                save_to_csv(index, current_time, license_plate)\n",
    "                print(f\"Violation time: {current_time},\\t License plate read: {license_plate}\")\n",
    "                index += 1\n",
    "                last_save_time = current_time\n",
    "    \n",
    "    frame = cv2.resize(frame, (854, 480))\n",
    "    cv2.imshow('frame', frame)\n",
    "    \n",
    "    if cv2.waitKey(1) & 0xFF == ord('q'):\n",
    "        break\n",
    "\n",
    "cap.release()\n",
    "cv2.destroyAllWindows()"
   ]
  },
  {
   "cell_type": "markdown",
   "metadata": {},
   "source": [
    "## Display License Plate Images\n",
    "Display the detected license plate images using matplotlib.\n"
   ]
  },
  {
   "cell_type": "code",
   "execution_count": 16,
   "metadata": {},
   "outputs": [
    {
     "data": {
      "image/png": "[encoded data removed]",
      "text/plain": [
       "<Figure size 1500x500 with 11 Axes>"
      ]
     },
     "metadata": {},
     "output_type": "display_data"
    }
   ],
   "source": [
    "# Display license plate images using matplotlib\n",
    "plate_images = [os.path.join(save_path, img) for img in os.listdir(save_path) if img.endswith('.png')]\n",
    "plate_images = plate_images[:-1]\n",
    "fig, axes = plt.subplots(1, len(plate_images), figsize=(15, 5))\n",
    "for ax, img_path in zip(axes, plate_images):\n",
    "    img = cv2.imread(img_path)\n",
    "    img_rgb = cv2.cvtColor(img, cv2.COLOR_BGR2RGB)\n",
    "    ax.imshow(img_rgb)\n",
    "    ax.axis('off')\n",
    "plt.show()"
   ]
  },
  {
   "cell_type": "markdown",
   "metadata": {},
   "source": [
    "## Read CSV File\n",
    "Read the CSV file containing the detected license plate data.\n"
   ]
  },
  {
   "cell_type": "code",
   "execution_count": 17,
   "metadata": {},
   "outputs": [
    {
     "data": {
      "text/html": [
       "<div>\n",
       "<style scoped>\n",
       "    .dataframe tbody tr th:only-of-type {\n",
       "        vertical-align: middle;\n",
       "    }\n",
       "\n",
       "    .dataframe tbody tr th {\n",
       "        vertical-align: top;\n",
       "    }\n",
       "\n",
       "    .dataframe thead th {\n",
       "        text-align: right;\n",
       "    }\n",
       "</style>\n",
       "<table border=\"1\" class=\"dataframe\">\n",
       "  <thead>\n",
       "    <tr style=\"text-align: right;\">\n",
       "      <th></th>\n",
       "      <th>Index</th>\n",
       "      <th>Time</th>\n",
       "      <th>License_plate</th>\n",
       "    </tr>\n",
       "  </thead>\n",
       "  <tbody>\n",
       "    <tr>\n",
       "      <th>0</th>\n",
       "      <td>1</td>\n",
       "      <td>2024-07-04 12:18:17.073170</td>\n",
       "      <td>۱۶۹۲۱۹۹</td>\n",
       "    </tr>\n",
       "    <tr>\n",
       "      <th>1</th>\n",
       "      <td>2</td>\n",
       "      <td>2024-07-04 12:18:36.533838</td>\n",
       "      <td>۱۳۶ ۳۳</td>\n",
       "    </tr>\n",
       "    <tr>\n",
       "      <th>2</th>\n",
       "      <td>3</td>\n",
       "      <td>2024-07-04 12:18:51.678924</td>\n",
       "      <td>2۳2 ۳۵۹</td>\n",
       "    </tr>\n",
       "    <tr>\n",
       "      <th>3</th>\n",
       "      <td>4</td>\n",
       "      <td>2024-07-04 12:18:54.761435</td>\n",
       "      <td>|۳۸۷۰ خء ۸</td>\n",
       "    </tr>\n",
       "    <tr>\n",
       "      <th>4</th>\n",
       "      <td>5</td>\n",
       "      <td>2024-07-04 12:19:14.058203</td>\n",
       "      <td>۲۲۹ ۷۷۷۵</td>\n",
       "    </tr>\n",
       "    <tr>\n",
       "      <th>5</th>\n",
       "      <td>6</td>\n",
       "      <td>2024-07-04 12:19:24.338417</td>\n",
       "      <td>۷۶۶ص ۶۵|</td>\n",
       "    </tr>\n",
       "    <tr>\n",
       "      <th>6</th>\n",
       "      <td>7</td>\n",
       "      <td>2024-07-04 12:19:26.360980</td>\n",
       "      <td>۳۳ ۸۲</td>\n",
       "    </tr>\n",
       "    <tr>\n",
       "      <th>7</th>\n",
       "      <td>8</td>\n",
       "      <td>2024-07-04 12:19:28.915972</td>\n",
       "      <td>|۷۷۷۶ ن ۴۹</td>\n",
       "    </tr>\n",
       "    <tr>\n",
       "      <th>8</th>\n",
       "      <td>9</td>\n",
       "      <td>2024-07-04 12:19:31.032520</td>\n",
       "      <td>۴۹ 0 ۷۷۷۶۰</td>\n",
       "    </tr>\n",
       "    <tr>\n",
       "      <th>9</th>\n",
       "      <td>10</td>\n",
       "      <td>2024-07-04 12:19:42.740623</td>\n",
       "      <td>140 ۱۵۲۰</td>\n",
       "    </tr>\n",
       "    <tr>\n",
       "      <th>10</th>\n",
       "      <td>11</td>\n",
       "      <td>2024-07-04 12:19:56.362032</td>\n",
       "      <td>۳۷۶۸</td>\n",
       "    </tr>\n",
       "  </tbody>\n",
       "</table>\n",
       "</div>"
      ],
      "text/plain": [
       "    Index                        Time License_plate\n",
       "0       1  2024-07-04 12:18:17.073170       ۱۶۹۲۱۹۹\n",
       "1       2  2024-07-04 12:18:36.533838        ۱۳۶ ۳۳\n",
       "2       3  2024-07-04 12:18:51.678924       2۳2 ۳۵۹\n",
       "3       4  2024-07-04 12:18:54.761435    |۳۸۷۰ خء ۸\n",
       "4       5  2024-07-04 12:19:14.058203      ۲۲۹ ۷۷۷۵\n",
       "5       6  2024-07-04 12:19:24.338417      ۷۶۶ص ۶۵|\n",
       "6       7  2024-07-04 12:19:26.360980         ۳۳ ۸۲\n",
       "7       8  2024-07-04 12:19:28.915972    |۷۷۷۶ ن ۴۹\n",
       "8       9  2024-07-04 12:19:31.032520    ۴۹ 0 ۷۷۷۶۰\n",
       "9      10  2024-07-04 12:19:42.740623      140 ۱۵۲۰\n",
       "10     11  2024-07-04 12:19:56.362032          ۳۷۶۸"
      ]
     },
     "execution_count": 17,
     "metadata": {},
     "output_type": "execute_result"
    }
   ],
   "source": [
    "# Read the CSV file containing license plate data\n",
    "df = pd.read_csv('license_plates.csv')\n",
    "df"
   ]
  }
 ],
 "metadata": {
  "kernelspec": {
   "display_name": "base",
   "language": "python",
   "name": "python3"
  },
  "language_info": {
   "codemirror_mode": {
    "name": "ipython",
    "version": 3
   },
   "file_extension": ".py",
   "mimetype": "text/x-python",
   "name": "python",
   "nbconvert_exporter": "python",
   "pygments_lexer": "ipython3",
   "version": "3.11.9"
  }
 },
 "nbformat": 4,
 "nbformat_minor": 2
}
